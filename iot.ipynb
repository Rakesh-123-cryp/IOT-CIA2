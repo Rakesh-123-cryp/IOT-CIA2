{
 "cells": [
  {
   "cell_type": "code",
   "execution_count": 3,
   "id": "41e906b3",
   "metadata": {},
   "outputs": [],
   "source": [
    "import pandas as pd\n",
    "import numpy as np\n",
    "import matplotlib.pyplot as plt"
   ]
  },
  {
   "cell_type": "code",
   "execution_count": 4,
   "id": "1c006162",
   "metadata": {},
   "outputs": [],
   "source": [
    "from statsmodels.tsa.arima.model import ARIMA"
   ]
  },
  {
   "cell_type": "code",
   "execution_count": 5,
   "id": "ab9f5053",
   "metadata": {},
   "outputs": [],
   "source": [
    "data = pd.read_csv(\"MLTempDataset1.csv\")"
   ]
  },
  {
   "cell_type": "code",
   "execution_count": 6,
   "id": "c4f8fdc8",
   "metadata": {},
   "outputs": [],
   "source": [
    "data.drop(\"Unnamed: 0\",axis = 1,inplace=True)"
   ]
  },
  {
   "cell_type": "code",
   "execution_count": 7,
   "id": "44eb3062",
   "metadata": {},
   "outputs": [],
   "source": [
    "data[\"Datetime\"] = pd.to_datetime(data[\"Datetime\"])"
   ]
  },
  {
   "cell_type": "code",
   "execution_count": 8,
   "id": "99c39cc4",
   "metadata": {},
   "outputs": [],
   "source": [
    "data.set_index(\"Datetime\",inplace=True)"
   ]
  },
  {
   "cell_type": "code",
   "execution_count": 9,
   "id": "9f84e282",
   "metadata": {},
   "outputs": [
    {
     "data": {
      "text/html": [
       "<div>\n",
       "<style scoped>\n",
       "    .dataframe tbody tr th:only-of-type {\n",
       "        vertical-align: middle;\n",
       "    }\n",
       "\n",
       "    .dataframe tbody tr th {\n",
       "        vertical-align: top;\n",
       "    }\n",
       "\n",
       "    .dataframe thead th {\n",
       "        text-align: right;\n",
       "    }\n",
       "</style>\n",
       "<table border=\"1\" class=\"dataframe\">\n",
       "  <thead>\n",
       "    <tr style=\"text-align: right;\">\n",
       "      <th></th>\n",
       "      <th>Hourly_Temp</th>\n",
       "    </tr>\n",
       "    <tr>\n",
       "      <th>Datetime</th>\n",
       "      <th></th>\n",
       "    </tr>\n",
       "  </thead>\n",
       "  <tbody>\n",
       "    <tr>\n",
       "      <th>2022-01-04 00:00:00</th>\n",
       "      <td>20.867</td>\n",
       "    </tr>\n",
       "    <tr>\n",
       "      <th>2022-01-04 01:00:00</th>\n",
       "      <td>21.000</td>\n",
       "    </tr>\n",
       "    <tr>\n",
       "      <th>2022-01-04 02:00:00</th>\n",
       "      <td>20.867</td>\n",
       "    </tr>\n",
       "    <tr>\n",
       "      <th>2022-01-04 03:00:00</th>\n",
       "      <td>20.650</td>\n",
       "    </tr>\n",
       "    <tr>\n",
       "      <th>2022-01-04 04:00:00</th>\n",
       "      <td>20.400</td>\n",
       "    </tr>\n",
       "    <tr>\n",
       "      <th>...</th>\n",
       "      <td>...</td>\n",
       "    </tr>\n",
       "    <tr>\n",
       "      <th>2022-10-24 19:00:00</th>\n",
       "      <td>25.567</td>\n",
       "    </tr>\n",
       "    <tr>\n",
       "      <th>2022-10-24 20:00:00</th>\n",
       "      <td>25.183</td>\n",
       "    </tr>\n",
       "    <tr>\n",
       "      <th>2022-10-24 21:00:00</th>\n",
       "      <td>24.600</td>\n",
       "    </tr>\n",
       "    <tr>\n",
       "      <th>2022-10-24 22:00:00</th>\n",
       "      <td>23.986</td>\n",
       "    </tr>\n",
       "    <tr>\n",
       "      <th>2022-10-24 23:00:00</th>\n",
       "      <td>23.383</td>\n",
       "    </tr>\n",
       "  </tbody>\n",
       "</table>\n",
       "<p>7056 rows × 1 columns</p>\n",
       "</div>"
      ],
      "text/plain": [
       "                     Hourly_Temp\n",
       "Datetime                        \n",
       "2022-01-04 00:00:00       20.867\n",
       "2022-01-04 01:00:00       21.000\n",
       "2022-01-04 02:00:00       20.867\n",
       "2022-01-04 03:00:00       20.650\n",
       "2022-01-04 04:00:00       20.400\n",
       "...                          ...\n",
       "2022-10-24 19:00:00       25.567\n",
       "2022-10-24 20:00:00       25.183\n",
       "2022-10-24 21:00:00       24.600\n",
       "2022-10-24 22:00:00       23.986\n",
       "2022-10-24 23:00:00       23.383\n",
       "\n",
       "[7056 rows x 1 columns]"
      ]
     },
     "execution_count": 9,
     "metadata": {},
     "output_type": "execute_result"
    }
   ],
   "source": [
    "data"
   ]
  },
  {
   "cell_type": "code",
   "execution_count": 10,
   "id": "1b727686",
   "metadata": {},
   "outputs": [],
   "source": [
    "from statsmodels.tsa.seasonal import seasonal_decompose"
   ]
  },
  {
   "cell_type": "code",
   "execution_count": 11,
   "id": "335e3ddb",
   "metadata": {},
   "outputs": [],
   "source": [
    "sd = seasonal_decompose(data)"
   ]
  },
  {
   "cell_type": "code",
   "execution_count": 12,
   "id": "47abc27a",
   "metadata": {},
   "outputs": [],
   "source": [
    "season = sd.seasonal\n",
    "trend = sd.trend"
   ]
  },
  {
   "cell_type": "code",
   "execution_count": 13,
   "id": "417dd6a8",
   "metadata": {},
   "outputs": [
    {
     "data": {
      "text/plain": [
       "[<matplotlib.lines.Line2D at 0x17d133c10>]"
      ]
     },
     "execution_count": 13,
     "metadata": {},
     "output_type": "execute_result"
    },
    {
     "data": {
      "image/png": "[encoded data removed]",
      "text/plain": [
       "<Figure size 432x288 with 1 Axes>"
      ]
     },
     "metadata": {
      "needs_background": "light"
     },
     "output_type": "display_data"
    }
   ],
   "source": [
    "plt.plot(trend[:200])"
   ]
  },
  {
   "cell_type": "code",
   "execution_count": 14,
   "id": "0a0ba2e4",
   "metadata": {},
   "outputs": [],
   "source": [
    "from statsmodels.tsa.stattools import pacf,acf\n",
    "from statsmodels.graphics.tsaplots import plot_acf,plot_pacf"
   ]
  },
  {
   "cell_type": "code",
   "execution_count": 15,
   "id": "0b6f18de",
   "metadata": {},
   "outputs": [],
   "source": [
    "p = pacf(data)\n",
    "a = acf(data)"
   ]
  },
  {
   "cell_type": "code",
   "execution_count": 16,
   "id": "009b50ba",
   "metadata": {},
   "outputs": [
    {
     "name": "stderr",
     "output_type": "stream",
     "text": [
      "/Library/Frameworks/Python.framework/Versions/3.10/lib/python3.10/site-packages/statsmodels/graphics/tsaplots.py:348: FutureWarning: The default method 'yw' can produce PACF values outside of the [-1,1] interval. After 0.13, the default will change tounadjusted Yule-Walker ('ywm'). You can use this method now by setting method='ywm'.\n",
      "  warnings.warn(\n"
     ]
    },
    {
     "data": {
      "image/png": "[encoded data removed]",
      "text/plain": [
       "<Figure size 432x288 with 1 Axes>"
      ]
     },
     "execution_count": 16,
     "metadata": {},
     "output_type": "execute_result"
    },
    {
     "data": {
      "image/png": "[encoded data removed]",
      "text/plain": [
       "<Figure size 432x288 with 1 Axes>"
      ]
     },
     "metadata": {
      "needs_background": "light"
     },
     "output_type": "display_data"
    },
    {
     "data": {
      "image/png": "[encoded data removed]",
      "text/plain": [
       "<Figure size 432x288 with 1 Axes>"
      ]
     },
     "metadata": {
      "needs_background": "light"
     },
     "output_type": "display_data"
    }
   ],
   "source": [
    "plot_acf(p)\n",
    "plot_pacf(a)"
   ]
  },
  {
   "cell_type": "code",
   "execution_count": 21,
   "id": "915be2bf",
   "metadata": {},
   "outputs": [],
   "source": [
    "data_new = data - data.shift(2)"
   ]
  },
  {
   "cell_type": "code",
   "execution_count": 22,
   "id": "fe5f7aa0",
   "metadata": {},
   "outputs": [
    {
     "data": {
      "text/plain": [
       "[<matplotlib.lines.Line2D at 0x17d4a0e20>]"
      ]
     },
     "execution_count": 22,
     "metadata": {},
     "output_type": "execute_result"
    },
    {
     "data": {
      "image/png": "[encoded data removed]",
      "text/plain": [
       "<Figure size 432x288 with 1 Axes>"
      ]
     },
     "metadata": {
      "needs_background": "light"
     },
     "output_type": "display_data"
    }
   ],
   "source": [
    "plt.plot(data_new)"
   ]
  },
  {
   "cell_type": "code",
   "execution_count": 49,
   "id": "103ea8f8",
   "metadata": {},
   "outputs": [
    {
     "name": "stderr",
     "output_type": "stream",
     "text": [
      "/Library/Frameworks/Python.framework/Versions/3.10/lib/python3.10/site-packages/statsmodels/tsa/base/tsa_model.py:471: ValueWarning: No frequency information was provided, so inferred frequency H will be used.\n",
      "  self._init_dates(dates, freq)\n",
      "/Library/Frameworks/Python.framework/Versions/3.10/lib/python3.10/site-packages/statsmodels/tsa/base/tsa_model.py:471: ValueWarning: No frequency information was provided, so inferred frequency H will be used.\n",
      "  self._init_dates(dates, freq)\n",
      "/Library/Frameworks/Python.framework/Versions/3.10/lib/python3.10/site-packages/statsmodels/tsa/base/tsa_model.py:471: ValueWarning: No frequency information was provided, so inferred frequency H will be used.\n",
      "  self._init_dates(dates, freq)\n",
      "/Library/Frameworks/Python.framework/Versions/3.10/lib/python3.10/site-packages/statsmodels/base/model.py:604: ConvergenceWarning: Maximum Likelihood optimization failed to converge. Check mle_retvals\n",
      "  warnings.warn(\"Maximum Likelihood optimization failed to \"\n"
     ]
    }
   ],
   "source": [
    "from statsmodels.tsa.arima.model import ARIMA\n",
    "model = ARIMA(data[:6056],order=(2,0,2), seasonal_order=(6,1,6,4))\n",
    "fitted = model.fit()"
   ]
  },
  {
   "cell_type": "code",
   "execution_count": 51,
   "id": "7dc80644",
   "metadata": {},
   "outputs": [
    {
     "data": {
      "text/plain": [
       "2022-09-13 08:00:00     9.610563\n",
       "2022-09-13 09:00:00    10.308048\n",
       "2022-09-13 10:00:00    11.285089\n",
       "2022-09-13 11:00:00    12.089558\n",
       "2022-09-13 12:00:00    13.075890\n",
       "                         ...    \n",
       "2022-10-24 19:00:00    21.790952\n",
       "2022-10-24 20:00:00    21.739589\n",
       "2022-10-24 21:00:00    21.782347\n",
       "2022-10-24 22:00:00    21.673023\n",
       "2022-10-24 23:00:00    21.698626\n",
       "Freq: H, Name: predicted_mean, Length: 1000, dtype: float64"
      ]
     },
     "execution_count": 51,
     "metadata": {},
     "output_type": "execute_result"
    }
   ],
   "source": [
    "fitted.forecast(1000)"
   ]
  },
  {
   "cell_type": "code",
   "execution_count": null,
   "id": "52e05577",
   "metadata": {},
   "outputs": [],
   "source": []
  }
 ],
 "metadata": {
  "kernelspec": {
   "display_name": "Python 3 (ipykernel)",
   "language": "python",
   "name": "python3"
  },
  "language_info": {
   "codemirror_mode": {
    "name": "ipython",
    "version": 3
   },
   "file_extension": ".py",
   "mimetype": "text/x-python",
   "name": "python",
   "nbconvert_exporter": "python",
   "pygments_lexer": "ipython3",
   "version": "3.10.5"
  }
 },
 "nbformat": 4,
 "nbformat_minor": 5
}
